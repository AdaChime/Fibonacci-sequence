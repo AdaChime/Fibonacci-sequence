{
 "cells": [
  {
   "cell_type": "code",
   "execution_count": null,
   "id": "8c63a833",
   "metadata": {},
   "outputs": [],
   "source": [
    "def check_sum(n):\n",
    "    a = 0 \n",
    "    b = 1\n",
    "    while b<n:\n",
    "        c = a+b\n",
    "        a = b\n",
    "        b = c\n",
    "    if b == n or a == n:\n",
    "        return True\n",
    "    elif b > n:\n",
    "        return False\n",
    "    \n",
    "    \n",
    "n = int(input('Enter number'))\n",
    "if check_sum(n):\n",
    "    print(f\"{n}is a fibonacci number.\")\n",
    "else:\n",
    "    print(f\"{n}is not a fibonacci number.\")\n",
    "        "
   ]
  },
  {
   "cell_type": "code",
   "execution_count": null,
   "id": "99255409",
   "metadata": {},
   "outputs": [],
   "source": []
  }
 ],
 "metadata": {
  "kernelspec": {
   "display_name": "Python 3 (ipykernel)",
   "language": "python",
   "name": "python3"
  },
  "language_info": {
   "codemirror_mode": {
    "name": "ipython",
    "version": 3
   },
   "file_extension": ".py",
   "mimetype": "text/x-python",
   "name": "python",
   "nbconvert_exporter": "python",
   "pygments_lexer": "ipython3",
   "version": "3.9.7"
  }
 },
 "nbformat": 4,
 "nbformat_minor": 5
}
